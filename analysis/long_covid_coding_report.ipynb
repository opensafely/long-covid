{
 "cells": [
  {
   "cell_type": "markdown",
   "metadata": {},
   "source": [
    "# Long COVID coding in primary care.\n",
    "\n",
    "This OpenSAFELY report is a routine update of our peer-review paper published in the _British Journal of General Practice_ on the [Clinical coding of long COVID in English primary care: a federated analysis of 58 million patient records in situ using OpenSAFELY](https://doi.org/10.3399/BJGP.2021.0301). \n",
    "\n",
    "It is a routine update of the analysis described in the paper. The data requires careful interpretation and there are a number of caveats. Please read the full detail about our methods and discussionis and the full analytical methods on this routine report are [available on GitHub](https://github.com/opensafely/long-covid).\n",
    "\n",
    "OpenSAFELY is a new secure analytics platform for electronic patient records built on behalf of NHS England to deliver urgent academic and operational research during the pandemic. You can read more about [OpenSAFELY on our website](https://github.com/opensafely/long-covid)."
   ]
  },
  {
   "cell_type": "code",
   "execution_count": null,
   "metadata": {
    "scrolled": true
   },
   "outputs": [],
   "source": [
    "from datetime import datetime\n",
    "from IPython.display import display, Markdown\n",
    "import pandas as pd\n",
    "pd.set_option(\"display.max_rows\", 200)\n",
    "pd.options.display.float_format = \"{:,.1f}\".format\n",
    "float_formatter = \"{:,.0f}\".format\n",
    "import lib"
   ]
  },
  {
   "cell_type": "code",
   "execution_count": null,
   "metadata": {},
   "outputs": [],
   "source": [
    "%load_ext autoreload\n",
    "%autoreload 2"
   ]
  },
  {
   "cell_type": "code",
   "execution_count": null,
   "metadata": {},
   "outputs": [],
   "source": [
    "tpp = lib.tpp_emis_table_format(\"output\", {\"0\": \"Missing\"})\n",
    "total_tpp = tpp.loc[\"sex\",[\"No long COVID\", \"Long COVID\"]].sum()\n",
    "all_total_tpp = total_tpp.sum()\n",
    "emis = lib.tpp_emis_table_format(\"emis\", {\"RGN11NM\": \"region\",\"0\": \"Missing\",\"6\": \"Missing\"})\n",
    "total_emis = emis.loc[\"sex\",[\"No long COVID\", \"Long COVID\"]].sum()\n",
    "all_total_emis = total_emis.sum()\n",
    "totals = tpp[[\"No long COVID\", \"Long COVID\"]] + emis[[\"No long COVID\", \"Long COVID\"]]\n",
    "\n",
    "#display(Markdown(f\"### Report last updated **{datetime.today().strftime('%d %b %Y')}**\"))"
   ]
  },
  {
   "cell_type": "markdown",
   "metadata": {},
   "source": [
    "## Results"
   ]
  },
  {
   "cell_type": "markdown",
   "metadata": {},
   "source": [
    "### Counts and rates of long COVID coding stratified by demographic variable\n",
    "This is equivalent to Table 2 from [the paper](https://doi.org/10.3399/BJGP.2021.0301)"
   ]
  },
  {
   "cell_type": "code",
   "execution_count": null,
   "metadata": {},
   "outputs": [],
   "source": [
    "total, table_2 = lib.get_table_2([tpp, emis, totals])\n",
    "display(Markdown(f\"There were {float_formatter(total[('Totals','Long COVID')])} people who have been given a diagnostic code for long COVID to date. Counts for each software system are:\"))\n",
    "print(total.loc[(slice(None), \"Long COVID\")])\n",
    "display(Markdown(f\"The overall rate of long COVID coding in the population was {round(total[('Totals','Rate per 100,000')]/2,1)} per 100,000 people. Rates for each software system are:\"))\n",
    "print(total.loc[(slice(None), \"Rate per 100,000\")]/2)\n",
    "table_2"
   ]
  },
  {
   "cell_type": "markdown",
   "metadata": {},
   "source": [
    "### Volume of code use in individual practices\n",
    "Stratified by the electronic health record provider of the practice (TPP/SystmOne or EMIS)."
   ]
  },
  {
   "cell_type": "code",
   "execution_count": null,
   "metadata": {},
   "outputs": [],
   "source": [
    "lib.code_use_per_week_graph()"
   ]
  },
  {
   "cell_type": "markdown",
   "metadata": {},
   "source": [
    "### Use of long COVID codes over time\n",
    "Stratified by the electronic health record provider of the practice (TPP/SystmOne or EMIS). Reporting lag may affect recent dates."
   ]
  },
  {
   "cell_type": "code",
   "execution_count": null,
   "metadata": {},
   "outputs": [],
   "source": [
    "lib.practice_distribution_graph()"
   ]
  },
  {
   "cell_type": "markdown",
   "metadata": {},
   "source": [
    "### Total use of each individual long COVID related code\n",
    "This is distinct from the above table in that it counts all coded events, including where patients have been coded more than once."
   ]
  },
  {
   "cell_type": "code",
   "execution_count": null,
   "metadata": {},
   "outputs": [],
   "source": [
    "total, codes_tpp = lib.smoosh_codes_tables()\n",
    "total = total[(slice(None), \"Total records\")]\n",
    "pd.set_option('display.max_colwidth', 200)\n",
    "display(Markdown(f\"There were {float_formatter(total['Total'])} long COVID codes used in total. Counts for each software system were:\"))\n",
    "print(total)\n",
    "codes_tpp"
   ]
  },
  {
   "cell_type": "markdown",
   "metadata": {},
   "source": [
    "### Characteristics of the cohort\n",
    "This is equivalent to Table 1 in [the paper](https://doi.org/10.3399/BJGP.2021.0301)"
   ]
  },
  {
   "cell_type": "code",
   "execution_count": null,
   "metadata": {},
   "outputs": [],
   "source": [
    "total, table_1 = lib.get_table_1([tpp, emis, totals])\n",
    "display(Markdown(f\"There were {float_formatter(total[('Totals','Patient count')])} people in the cohort in total. In practices that use TPP software, there were {float_formatter(total[('TPP','Patient count')])}, while in practices that use EMIS software, there were {float_formatter(total[('EMIS','Patient count')])} people.\"))\n",
    "display(table_1)"
   ]
  },
  {
   "cell_type": "code",
   "execution_count": null,
   "metadata": {},
   "outputs": [],
   "source": []
  }
 ],
 "metadata": {
  "kernelspec": {
   "display_name": "Python 3",
   "language": "python",
   "name": "python3"
  },
  "language_info": {
   "codemirror_mode": {
    "name": "ipython",
    "version": 3
   },
   "file_extension": ".py",
   "mimetype": "text/x-python",
   "name": "python",
   "nbconvert_exporter": "python",
   "pygments_lexer": "ipython3",
   "version": "3.8.5"
  }
 },
 "nbformat": 4,
 "nbformat_minor": 4
}
